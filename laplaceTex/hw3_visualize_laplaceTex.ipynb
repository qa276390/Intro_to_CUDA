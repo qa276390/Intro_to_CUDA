{
 "cells": [
  {
   "cell_type": "code",
   "execution_count": 13,
   "metadata": {},
   "outputs": [],
   "source": [
    "import pandas as pd\n",
    "import matplotlib. pyplot as plt\n",
    "import numpy as np"
   ]
  },
  {
   "cell_type": "code",
   "execution_count": 14,
   "metadata": {},
   "outputs": [],
   "source": [
    "dftex = pd.read_csv('OutputTex.csv')"
   ]
  },
  {
   "cell_type": "code",
   "execution_count": null,
   "metadata": {},
   "outputs": [],
   "source": []
  },
  {
   "cell_type": "code",
   "execution_count": 15,
   "metadata": {},
   "outputs": [],
   "source": [
    "dftex['block_sizes'] = dftex[dftex.columns[1]]"
   ]
  },
  {
   "cell_type": "code",
   "execution_count": 16,
   "metadata": {
    "scrolled": true
   },
   "outputs": [
    {
     "data": {
      "text/html": [
       "<div>\n",
       "<style scoped>\n",
       "    .dataframe tbody tr th:only-of-type {\n",
       "        vertical-align: middle;\n",
       "    }\n",
       "\n",
       "    .dataframe tbody tr th {\n",
       "        vertical-align: top;\n",
       "    }\n",
       "\n",
       "    .dataframe thead th {\n",
       "        text-align: right;\n",
       "    }\n",
       "</style>\n",
       "<table border=\"1\" class=\"dataframe\">\n",
       "  <thead>\n",
       "    <tr style=\"text-align: right;\">\n",
       "      <th></th>\n",
       "      <th>lattice_sizes</th>\n",
       "      <th>block sizes</th>\n",
       "      <th>gputime</th>\n",
       "      <th>gputime_tot</th>\n",
       "      <th>diff</th>\n",
       "      <th>cputime</th>\n",
       "      <th>savetime</th>\n",
       "      <th>block_sizes</th>\n",
       "    </tr>\n",
       "  </thead>\n",
       "  <tbody>\n",
       "    <tr>\n",
       "      <th>0</th>\n",
       "      <td>32x32</td>\n",
       "      <td>4x4</td>\n",
       "      <td>56.7120</td>\n",
       "      <td>57.0001</td>\n",
       "      <td>0.000000e+00</td>\n",
       "      <td>10.5568</td>\n",
       "      <td>0.185206</td>\n",
       "      <td>4x4</td>\n",
       "    </tr>\n",
       "    <tr>\n",
       "      <th>1</th>\n",
       "      <td>32x32</td>\n",
       "      <td>8x8</td>\n",
       "      <td>59.8652</td>\n",
       "      <td>60.1353</td>\n",
       "      <td>0.000000e+00</td>\n",
       "      <td>10.5648</td>\n",
       "      <td>0.175684</td>\n",
       "      <td>8x8</td>\n",
       "    </tr>\n",
       "    <tr>\n",
       "      <th>2</th>\n",
       "      <td>32x32</td>\n",
       "      <td>16x16</td>\n",
       "      <td>61.6903</td>\n",
       "      <td>61.9592</td>\n",
       "      <td>0.000000e+00</td>\n",
       "      <td>10.5487</td>\n",
       "      <td>0.170253</td>\n",
       "      <td>16x16</td>\n",
       "    </tr>\n",
       "    <tr>\n",
       "      <th>3</th>\n",
       "      <td>32x32</td>\n",
       "      <td>32x32</td>\n",
       "      <td>61.4821</td>\n",
       "      <td>61.7500</td>\n",
       "      <td>0.000000e+00</td>\n",
       "      <td>10.5666</td>\n",
       "      <td>0.171119</td>\n",
       "      <td>32x32</td>\n",
       "    </tr>\n",
       "    <tr>\n",
       "      <th>4</th>\n",
       "      <td>64x64</td>\n",
       "      <td>4x4</td>\n",
       "      <td>239.2630</td>\n",
       "      <td>239.5430</td>\n",
       "      <td>5.820770e-11</td>\n",
       "      <td>162.6850</td>\n",
       "      <td>0.679147</td>\n",
       "      <td>4x4</td>\n",
       "    </tr>\n",
       "    <tr>\n",
       "      <th>5</th>\n",
       "      <td>64x64</td>\n",
       "      <td>8x8</td>\n",
       "      <td>230.3610</td>\n",
       "      <td>230.6430</td>\n",
       "      <td>5.820770e-11</td>\n",
       "      <td>163.0010</td>\n",
       "      <td>0.706726</td>\n",
       "      <td>8x8</td>\n",
       "    </tr>\n",
       "    <tr>\n",
       "      <th>6</th>\n",
       "      <td>64x64</td>\n",
       "      <td>16x16</td>\n",
       "      <td>230.0580</td>\n",
       "      <td>230.3410</td>\n",
       "      <td>5.820770e-11</td>\n",
       "      <td>162.5900</td>\n",
       "      <td>0.705868</td>\n",
       "      <td>16x16</td>\n",
       "    </tr>\n",
       "    <tr>\n",
       "      <th>7</th>\n",
       "      <td>64x64</td>\n",
       "      <td>32x32</td>\n",
       "      <td>231.1800</td>\n",
       "      <td>231.4640</td>\n",
       "      <td>5.820770e-11</td>\n",
       "      <td>162.6920</td>\n",
       "      <td>0.702882</td>\n",
       "      <td>32x32</td>\n",
       "    </tr>\n",
       "    <tr>\n",
       "      <th>8</th>\n",
       "      <td>128x128</td>\n",
       "      <td>4x4</td>\n",
       "      <td>937.3620</td>\n",
       "      <td>937.7020</td>\n",
       "      <td>0.000000e+00</td>\n",
       "      <td>2445.0500</td>\n",
       "      <td>2.607490</td>\n",
       "      <td>4x4</td>\n",
       "    </tr>\n",
       "    <tr>\n",
       "      <th>9</th>\n",
       "      <td>128x128</td>\n",
       "      <td>8x8</td>\n",
       "      <td>861.8670</td>\n",
       "      <td>862.2120</td>\n",
       "      <td>0.000000e+00</td>\n",
       "      <td>2445.9900</td>\n",
       "      <td>2.836880</td>\n",
       "      <td>8x8</td>\n",
       "    </tr>\n",
       "    <tr>\n",
       "      <th>10</th>\n",
       "      <td>128x128</td>\n",
       "      <td>16x16</td>\n",
       "      <td>828.0670</td>\n",
       "      <td>828.4180</td>\n",
       "      <td>0.000000e+00</td>\n",
       "      <td>2445.2400</td>\n",
       "      <td>2.951700</td>\n",
       "      <td>16x16</td>\n",
       "    </tr>\n",
       "    <tr>\n",
       "      <th>11</th>\n",
       "      <td>128x128</td>\n",
       "      <td>32x32</td>\n",
       "      <td>828.8220</td>\n",
       "      <td>829.1620</td>\n",
       "      <td>0.000000e+00</td>\n",
       "      <td>2444.0700</td>\n",
       "      <td>2.947640</td>\n",
       "      <td>32x32</td>\n",
       "    </tr>\n",
       "    <tr>\n",
       "      <th>12</th>\n",
       "      <td>256x256</td>\n",
       "      <td>4x4</td>\n",
       "      <td>5344.4800</td>\n",
       "      <td>5345.0600</td>\n",
       "      <td>5.820770e-11</td>\n",
       "      <td>35262.8000</td>\n",
       "      <td>6.597270</td>\n",
       "      <td>4x4</td>\n",
       "    </tr>\n",
       "    <tr>\n",
       "      <th>13</th>\n",
       "      <td>256x256</td>\n",
       "      <td>8x8</td>\n",
       "      <td>3369.3600</td>\n",
       "      <td>3369.9600</td>\n",
       "      <td>5.820770e-11</td>\n",
       "      <td>35249.6000</td>\n",
       "      <td>10.459900</td>\n",
       "      <td>8x8</td>\n",
       "    </tr>\n",
       "    <tr>\n",
       "      <th>14</th>\n",
       "      <td>256x256</td>\n",
       "      <td>16x16</td>\n",
       "      <td>3054.1300</td>\n",
       "      <td>3054.6700</td>\n",
       "      <td>5.820770e-11</td>\n",
       "      <td>35264.2000</td>\n",
       "      <td>11.544400</td>\n",
       "      <td>16x16</td>\n",
       "    </tr>\n",
       "    <tr>\n",
       "      <th>15</th>\n",
       "      <td>256x256</td>\n",
       "      <td>32x32</td>\n",
       "      <td>3961.5700</td>\n",
       "      <td>3962.1200</td>\n",
       "      <td>5.820770e-11</td>\n",
       "      <td>35248.0000</td>\n",
       "      <td>8.896240</td>\n",
       "      <td>32x32</td>\n",
       "    </tr>\n",
       "  </tbody>\n",
       "</table>\n",
       "</div>"
      ],
      "text/plain": [
       "   lattice_sizes block sizes    gputime  gputime_tot          diff  \\\n",
       "0          32x32         4x4    56.7120      57.0001  0.000000e+00   \n",
       "1          32x32         8x8    59.8652      60.1353  0.000000e+00   \n",
       "2          32x32       16x16    61.6903      61.9592  0.000000e+00   \n",
       "3          32x32       32x32    61.4821      61.7500  0.000000e+00   \n",
       "4          64x64         4x4   239.2630     239.5430  5.820770e-11   \n",
       "5          64x64         8x8   230.3610     230.6430  5.820770e-11   \n",
       "6          64x64       16x16   230.0580     230.3410  5.820770e-11   \n",
       "7          64x64       32x32   231.1800     231.4640  5.820770e-11   \n",
       "8        128x128         4x4   937.3620     937.7020  0.000000e+00   \n",
       "9        128x128         8x8   861.8670     862.2120  0.000000e+00   \n",
       "10       128x128       16x16   828.0670     828.4180  0.000000e+00   \n",
       "11       128x128       32x32   828.8220     829.1620  0.000000e+00   \n",
       "12       256x256         4x4  5344.4800    5345.0600  5.820770e-11   \n",
       "13       256x256         8x8  3369.3600    3369.9600  5.820770e-11   \n",
       "14       256x256       16x16  3054.1300    3054.6700  5.820770e-11   \n",
       "15       256x256       32x32  3961.5700    3962.1200  5.820770e-11   \n",
       "\n",
       "       cputime   savetime block_sizes  \n",
       "0      10.5568   0.185206         4x4  \n",
       "1      10.5648   0.175684         8x8  \n",
       "2      10.5487   0.170253       16x16  \n",
       "3      10.5666   0.171119       32x32  \n",
       "4     162.6850   0.679147         4x4  \n",
       "5     163.0010   0.706726         8x8  \n",
       "6     162.5900   0.705868       16x16  \n",
       "7     162.6920   0.702882       32x32  \n",
       "8    2445.0500   2.607490         4x4  \n",
       "9    2445.9900   2.836880         8x8  \n",
       "10   2445.2400   2.951700       16x16  \n",
       "11   2444.0700   2.947640       32x32  \n",
       "12  35262.8000   6.597270         4x4  \n",
       "13  35249.6000  10.459900         8x8  \n",
       "14  35264.2000  11.544400       16x16  \n",
       "15  35248.0000   8.896240       32x32  "
      ]
     },
     "execution_count": 16,
     "metadata": {},
     "output_type": "execute_result"
    }
   ],
   "source": [
    "dftex"
   ]
  },
  {
   "cell_type": "code",
   "execution_count": 17,
   "metadata": {},
   "outputs": [],
   "source": [
    "df = pd.read_csv('Output.csv')\n",
    "df['block_sizes'] = df[df.columns[1]]"
   ]
  },
  {
   "cell_type": "code",
   "execution_count": 18,
   "metadata": {},
   "outputs": [
    {
     "data": {
      "text/plain": [
       "0     4\n",
       "1     8\n",
       "2    16\n",
       "3    32\n",
       "Name: 0, dtype: object"
      ]
     },
     "execution_count": 18,
     "metadata": {},
     "output_type": "execute_result"
    }
   ],
   "source": [
    "dftex[dftex.lattice_sizes=='32x32'].block_sizes.str.split('x', expand=True)[0]"
   ]
  },
  {
   "cell_type": "code",
   "execution_count": 19,
   "metadata": {},
   "outputs": [
    {
     "data": {
      "text/plain": [
       "0    0.0\n",
       "1    0.0\n",
       "2    0.0\n",
       "3    0.0\n",
       "Name: diff, dtype: float64"
      ]
     },
     "execution_count": 19,
     "metadata": {},
     "output_type": "execute_result"
    }
   ],
   "source": [
    "dftex[dftex.lattice_sizes=='32x32']['diff']"
   ]
  },
  {
   "cell_type": "code",
   "execution_count": 38,
   "metadata": {},
   "outputs": [
    {
     "name": "stdout",
     "output_type": "stream",
     "text": [
      "lattice sizes: 256x256\n"
     ]
    },
    {
     "data": {
      "image/png": "[encoded data removed]",
      "text/plain": [
       "<Figure size 432x288 with 1 Axes>"
      ]
     },
     "metadata": {
      "needs_background": "light"
     },
     "output_type": "display_data"
    }
   ],
   "source": [
    "latsize = '256x256'\n",
    "#plt.plot(dftex[dftex.lattice_sizes==latsize].block_sizes.str.split('x', expand=True)[0],dftex[dftex.lattice_sizes==latsize].cputime, 'y4-', label='cputime(sec)')\n",
    "plt.plot(dftex[dftex.lattice_sizes==latsize].block_sizes.str.split('x', expand=True)[0],dftex[dftex.lattice_sizes==latsize].gputime, 'bo-', label='laplaceTex-gputime(sec)')\n",
    "plt.plot(df[df.lattice_sizes==latsize].block_sizes.str.split('x', expand=True)[0],df[df.lattice_sizes==latsize].gputime, 'r*-', label='laplace-gputime(sec)')\n",
    "plt.legend()\n",
    "plt.xlabel('block sizes')\n",
    "#print('x: block sizes, y: gpu time')\n",
    "print('lattice sizes:', latsize)"
   ]
  },
  {
   "cell_type": "code",
   "execution_count": 37,
   "metadata": {},
   "outputs": [
    {
     "name": "stdout",
     "output_type": "stream",
     "text": [
      "lattice sizes: 32x32\n"
     ]
    },
    {
     "data": {
      "image/png": "[encoded data removed]",
      "text/plain": [
       "<Figure size 432x288 with 1 Axes>"
      ]
     },
     "metadata": {
      "needs_background": "light"
     },
     "output_type": "display_data"
    }
   ],
   "source": [
    "latsize = '32x32'\n",
    "#plt.plot(dftex[dftex.lattice_sizes==latsize].block_sizes.str.split('x', expand=True)[0],dftex[dftex.lattice_sizes==latsize].cputime, 'y4-', label='cputime(sec)')\n",
    "plt.plot(dftex[dftex.lattice_sizes==latsize].block_sizes.str.split('x', expand=True)[0],dftex[dftex.lattice_sizes==latsize].gputime, 'bo-', label='laplaceTex-gputime(sec)')\n",
    "plt.plot(df[df.lattice_sizes==latsize].block_sizes.str.split('x', expand=True)[0],df[df.lattice_sizes==latsize].gputime, 'r*-', label='laplace-gputime(sec)')\n",
    "plt.legend()\n",
    "plt.xlabel('block sizes')\n",
    "#print('x: block sizes, y: gpu time')\n",
    "print('lattice sizes:', latsize)"
   ]
  },
  {
   "cell_type": "code",
   "execution_count": 8,
   "metadata": {},
   "outputs": [
    {
     "data": {
      "text/plain": [
       "0      32\n",
       "4      64\n",
       "8     128\n",
       "12    256\n",
       "Name: 0, dtype: object"
      ]
     },
     "execution_count": 8,
     "metadata": {},
     "output_type": "execute_result"
    }
   ],
   "source": [
    "dftex[dftex.block_sizes=='4x4'].lattice_sizes.str.split('x', expand=True)[0]"
   ]
  },
  {
   "cell_type": "code",
   "execution_count": 9,
   "metadata": {},
   "outputs": [
    {
     "name": "stdout",
     "output_type": "stream",
     "text": [
      "x: threads per block, y: gpu time\n"
     ]
    }
   ],
   "source": [
    "\n",
    "print('x: threads per block, y: gpu time')"
   ]
  },
  {
   "cell_type": "code",
   "execution_count": 48,
   "metadata": {},
   "outputs": [
    {
     "name": "stdout",
     "output_type": "stream",
     "text": [
      "block sizes: 32x32\n",
      "x: lattice sizes, y: gpu time\n"
     ]
    },
    {
     "data": {
      "image/png": "[encoded data removed]",
      "text/plain": [
       "<Figure size 432x288 with 1 Axes>"
      ]
     },
     "metadata": {
      "needs_background": "light"
     },
     "output_type": "display_data"
    }
   ],
   "source": [
    "bsize = '32x32'\n",
    "plt.plot( dftex[dftex.block_sizes==bsize].lattice_sizes.str.split('x', expand=True)[0],np.log10(dftex[dftex.block_sizes==bsize].cputime), 'y4-', label='cputime')\n",
    "plt.plot( dftex[dftex.block_sizes==bsize].lattice_sizes.str.split('x', expand=True)[0],np.log10(dftex[dftex.block_sizes==bsize].gputime), 'go-', label='laplaceTex-gputime')\n",
    "plt.plot( df[df.block_sizes==bsize].lattice_sizes.str.split('x', expand=True)[0],np.log10(df[df.block_sizes==bsize].gputime), 'r*-', label='laplace-gputime')\n",
    "#plt.plot( dftex[dftex.block_sizes=='4x4'].lattice_sizes.str.split('x', expand=True)[0],dftex[dftex.block_sizes=='4x4']['diff']*1e5, 'r--', label='diff(*1e-5)')\n",
    "plt.legend()\n",
    "plt.xlabel('lattice sizes')\n",
    "plt.ylabel('running times in sec - log scale')\n",
    "print('block sizes:', bsize)\n",
    "print('x: lattice sizes, y: gpu time')"
   ]
  },
  {
   "cell_type": "code",
   "execution_count": null,
   "metadata": {},
   "outputs": [],
   "source": []
  },
  {
   "cell_type": "code",
   "execution_count": null,
   "metadata": {},
   "outputs": [],
   "source": []
  }
 ],
 "metadata": {
  "kernelspec": {
   "display_name": "Python 3",
   "language": "python",
   "name": "python3"
  },
  "language_info": {
   "codemirror_mode": {
    "name": "ipython",
    "version": 3
   },
   "file_extension": ".py",
   "mimetype": "text/x-python",
   "name": "python",
   "nbconvert_exporter": "python",
   "pygments_lexer": "ipython3",
   "version": "3.6.9"
  }
 },
 "nbformat": 4,
 "nbformat_minor": 2
}
