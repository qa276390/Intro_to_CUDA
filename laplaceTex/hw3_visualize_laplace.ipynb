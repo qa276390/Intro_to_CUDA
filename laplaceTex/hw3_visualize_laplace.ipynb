{
 "cells": [
  {
   "cell_type": "code",
   "execution_count": 3,
   "metadata": {},
   "outputs": [],
   "source": [
    "import pandas as pd\n",
    "import matplotlib. pyplot as plt\n",
    "import numpy as np"
   ]
  },
  {
   "cell_type": "code",
   "execution_count": 4,
   "metadata": {},
   "outputs": [],
   "source": [
    "df = pd.read_csv('Output.csv')"
   ]
  },
  {
   "cell_type": "code",
   "execution_count": 9,
   "metadata": {},
   "outputs": [],
   "source": [
    "df['block_sizes'] = df[df.columns[1]]"
   ]
  },
  {
   "cell_type": "code",
   "execution_count": 10,
   "metadata": {
    "scrolled": true
   },
   "outputs": [
    {
     "data": {
      "text/html": [
       "<div>\n",
       "<style scoped>\n",
       "    .dataframe tbody tr th:only-of-type {\n",
       "        vertical-align: middle;\n",
       "    }\n",
       "\n",
       "    .dataframe tbody tr th {\n",
       "        vertical-align: top;\n",
       "    }\n",
       "\n",
       "    .dataframe thead th {\n",
       "        text-align: right;\n",
       "    }\n",
       "</style>\n",
       "<table border=\"1\" class=\"dataframe\">\n",
       "  <thead>\n",
       "    <tr style=\"text-align: right;\">\n",
       "      <th></th>\n",
       "      <th>lattice_sizes</th>\n",
       "      <th>block sizes</th>\n",
       "      <th>gputime</th>\n",
       "      <th>gputime_tot</th>\n",
       "      <th>diff</th>\n",
       "      <th>cputime</th>\n",
       "      <th>savetime</th>\n",
       "      <th>block_sizes</th>\n",
       "    </tr>\n",
       "  </thead>\n",
       "  <tbody>\n",
       "    <tr>\n",
       "      <th>0</th>\n",
       "      <td>32x32</td>\n",
       "      <td>4x4</td>\n",
       "      <td>58.3122</td>\n",
       "      <td>58.5868</td>\n",
       "      <td>0.000000e+00</td>\n",
       "      <td>10.5344</td>\n",
       "      <td>0.179808</td>\n",
       "      <td>4x4</td>\n",
       "    </tr>\n",
       "    <tr>\n",
       "      <th>1</th>\n",
       "      <td>32x32</td>\n",
       "      <td>8x8</td>\n",
       "      <td>57.7321</td>\n",
       "      <td>57.9953</td>\n",
       "      <td>0.000000e+00</td>\n",
       "      <td>10.5358</td>\n",
       "      <td>0.181667</td>\n",
       "      <td>8x8</td>\n",
       "    </tr>\n",
       "    <tr>\n",
       "      <th>2</th>\n",
       "      <td>32x32</td>\n",
       "      <td>16x16</td>\n",
       "      <td>58.6075</td>\n",
       "      <td>58.8695</td>\n",
       "      <td>0.000000e+00</td>\n",
       "      <td>10.5328</td>\n",
       "      <td>0.178918</td>\n",
       "      <td>16x16</td>\n",
       "    </tr>\n",
       "    <tr>\n",
       "      <th>3</th>\n",
       "      <td>32x32</td>\n",
       "      <td>32x32</td>\n",
       "      <td>56.6482</td>\n",
       "      <td>56.9106</td>\n",
       "      <td>0.000000e+00</td>\n",
       "      <td>10.5304</td>\n",
       "      <td>0.185035</td>\n",
       "      <td>32x32</td>\n",
       "    </tr>\n",
       "    <tr>\n",
       "      <th>4</th>\n",
       "      <td>64x64</td>\n",
       "      <td>4x4</td>\n",
       "      <td>219.7360</td>\n",
       "      <td>220.0310</td>\n",
       "      <td>5.820770e-11</td>\n",
       "      <td>162.6350</td>\n",
       "      <td>0.739145</td>\n",
       "      <td>4x4</td>\n",
       "    </tr>\n",
       "    <tr>\n",
       "      <th>5</th>\n",
       "      <td>64x64</td>\n",
       "      <td>8x8</td>\n",
       "      <td>219.1190</td>\n",
       "      <td>219.3980</td>\n",
       "      <td>5.820770e-11</td>\n",
       "      <td>162.6190</td>\n",
       "      <td>0.741205</td>\n",
       "      <td>8x8</td>\n",
       "    </tr>\n",
       "    <tr>\n",
       "      <th>6</th>\n",
       "      <td>64x64</td>\n",
       "      <td>16x16</td>\n",
       "      <td>213.7740</td>\n",
       "      <td>214.0490</td>\n",
       "      <td>5.820770e-11</td>\n",
       "      <td>162.6320</td>\n",
       "      <td>0.759791</td>\n",
       "      <td>16x16</td>\n",
       "    </tr>\n",
       "    <tr>\n",
       "      <th>7</th>\n",
       "      <td>64x64</td>\n",
       "      <td>32x32</td>\n",
       "      <td>217.5980</td>\n",
       "      <td>217.9780</td>\n",
       "      <td>5.820770e-11</td>\n",
       "      <td>162.6810</td>\n",
       "      <td>0.746317</td>\n",
       "      <td>32x32</td>\n",
       "    </tr>\n",
       "    <tr>\n",
       "      <th>8</th>\n",
       "      <td>128x128</td>\n",
       "      <td>4x4</td>\n",
       "      <td>865.6030</td>\n",
       "      <td>865.9700</td>\n",
       "      <td>0.000000e+00</td>\n",
       "      <td>2444.8100</td>\n",
       "      <td>2.823210</td>\n",
       "      <td>4x4</td>\n",
       "    </tr>\n",
       "    <tr>\n",
       "      <th>9</th>\n",
       "      <td>128x128</td>\n",
       "      <td>8x8</td>\n",
       "      <td>793.3960</td>\n",
       "      <td>793.7320</td>\n",
       "      <td>0.000000e+00</td>\n",
       "      <td>2444.8600</td>\n",
       "      <td>3.080210</td>\n",
       "      <td>8x8</td>\n",
       "    </tr>\n",
       "    <tr>\n",
       "      <th>10</th>\n",
       "      <td>128x128</td>\n",
       "      <td>16x16</td>\n",
       "      <td>773.4690</td>\n",
       "      <td>773.8020</td>\n",
       "      <td>0.000000e+00</td>\n",
       "      <td>2446.7300</td>\n",
       "      <td>3.161960</td>\n",
       "      <td>16x16</td>\n",
       "    </tr>\n",
       "    <tr>\n",
       "      <th>11</th>\n",
       "      <td>128x128</td>\n",
       "      <td>32x32</td>\n",
       "      <td>759.5410</td>\n",
       "      <td>759.8790</td>\n",
       "      <td>0.000000e+00</td>\n",
       "      <td>2444.8300</td>\n",
       "      <td>3.217400</td>\n",
       "      <td>32x32</td>\n",
       "    </tr>\n",
       "    <tr>\n",
       "      <th>12</th>\n",
       "      <td>256x256</td>\n",
       "      <td>4x4</td>\n",
       "      <td>5099.3600</td>\n",
       "      <td>5099.8900</td>\n",
       "      <td>5.820770e-11</td>\n",
       "      <td>35255.7000</td>\n",
       "      <td>6.913030</td>\n",
       "      <td>4x4</td>\n",
       "    </tr>\n",
       "    <tr>\n",
       "      <th>13</th>\n",
       "      <td>256x256</td>\n",
       "      <td>8x8</td>\n",
       "      <td>3813.9500</td>\n",
       "      <td>3814.4900</td>\n",
       "      <td>5.820770e-11</td>\n",
       "      <td>35263.9000</td>\n",
       "      <td>9.244720</td>\n",
       "      <td>8x8</td>\n",
       "    </tr>\n",
       "    <tr>\n",
       "      <th>14</th>\n",
       "      <td>256x256</td>\n",
       "      <td>16x16</td>\n",
       "      <td>3807.5000</td>\n",
       "      <td>3808.0400</td>\n",
       "      <td>5.820770e-11</td>\n",
       "      <td>35254.9000</td>\n",
       "      <td>9.258020</td>\n",
       "      <td>16x16</td>\n",
       "    </tr>\n",
       "    <tr>\n",
       "      <th>15</th>\n",
       "      <td>256x256</td>\n",
       "      <td>32x32</td>\n",
       "      <td>3801.9000</td>\n",
       "      <td>3802.4400</td>\n",
       "      <td>5.820770e-11</td>\n",
       "      <td>35254.9000</td>\n",
       "      <td>9.271660</td>\n",
       "      <td>32x32</td>\n",
       "    </tr>\n",
       "  </tbody>\n",
       "</table>\n",
       "</div>"
      ],
      "text/plain": [
       "   lattice_sizes block sizes    gputime  gputime_tot          diff  \\\n",
       "0          32x32         4x4    58.3122      58.5868  0.000000e+00   \n",
       "1          32x32         8x8    57.7321      57.9953  0.000000e+00   \n",
       "2          32x32       16x16    58.6075      58.8695  0.000000e+00   \n",
       "3          32x32       32x32    56.6482      56.9106  0.000000e+00   \n",
       "4          64x64         4x4   219.7360     220.0310  5.820770e-11   \n",
       "5          64x64         8x8   219.1190     219.3980  5.820770e-11   \n",
       "6          64x64       16x16   213.7740     214.0490  5.820770e-11   \n",
       "7          64x64       32x32   217.5980     217.9780  5.820770e-11   \n",
       "8        128x128         4x4   865.6030     865.9700  0.000000e+00   \n",
       "9        128x128         8x8   793.3960     793.7320  0.000000e+00   \n",
       "10       128x128       16x16   773.4690     773.8020  0.000000e+00   \n",
       "11       128x128       32x32   759.5410     759.8790  0.000000e+00   \n",
       "12       256x256         4x4  5099.3600    5099.8900  5.820770e-11   \n",
       "13       256x256         8x8  3813.9500    3814.4900  5.820770e-11   \n",
       "14       256x256       16x16  3807.5000    3808.0400  5.820770e-11   \n",
       "15       256x256       32x32  3801.9000    3802.4400  5.820770e-11   \n",
       "\n",
       "       cputime  savetime block_sizes  \n",
       "0      10.5344  0.179808         4x4  \n",
       "1      10.5358  0.181667         8x8  \n",
       "2      10.5328  0.178918       16x16  \n",
       "3      10.5304  0.185035       32x32  \n",
       "4     162.6350  0.739145         4x4  \n",
       "5     162.6190  0.741205         8x8  \n",
       "6     162.6320  0.759791       16x16  \n",
       "7     162.6810  0.746317       32x32  \n",
       "8    2444.8100  2.823210         4x4  \n",
       "9    2444.8600  3.080210         8x8  \n",
       "10   2446.7300  3.161960       16x16  \n",
       "11   2444.8300  3.217400       32x32  \n",
       "12  35255.7000  6.913030         4x4  \n",
       "13  35263.9000  9.244720         8x8  \n",
       "14  35254.9000  9.258020       16x16  \n",
       "15  35254.9000  9.271660       32x32  "
      ]
     },
     "execution_count": 10,
     "metadata": {},
     "output_type": "execute_result"
    }
   ],
   "source": [
    "df"
   ]
  },
  {
   "cell_type": "code",
   "execution_count": 15,
   "metadata": {},
   "outputs": [
    {
     "data": {
      "text/plain": [
       "0     4\n",
       "1     8\n",
       "2    16\n",
       "3    32\n",
       "Name: 0, dtype: object"
      ]
     },
     "execution_count": 15,
     "metadata": {},
     "output_type": "execute_result"
    }
   ],
   "source": [
    "df[df.lattice_sizes=='32x32'].block_sizes.str.split('x', expand=True)[0]"
   ]
  },
  {
   "cell_type": "code",
   "execution_count": 20,
   "metadata": {},
   "outputs": [
    {
     "data": {
      "text/plain": [
       "0    0.0\n",
       "1    0.0\n",
       "2    0.0\n",
       "3    0.0\n",
       "Name: diff, dtype: float64"
      ]
     },
     "execution_count": 20,
     "metadata": {},
     "output_type": "execute_result"
    }
   ],
   "source": [
    "df[df.lattice_sizes=='32x32']['diff']"
   ]
  },
  {
   "cell_type": "code",
   "execution_count": 27,
   "metadata": {},
   "outputs": [
    {
     "name": "stdout",
     "output_type": "stream",
     "text": [
      "x: threads per block, y: gpu time\n"
     ]
    },
    {
     "data": {
      "image/png": "[encoded data removed]",
      "text/plain": [
       "<Figure size 432x288 with 1 Axes>"
      ]
     },
     "metadata": {
      "needs_background": "light"
     },
     "output_type": "display_data"
    }
   ],
   "source": [
    "plt.plot(df[df.lattice_sizes=='32x32'].block_sizes.str.split('x', expand=True)[0],df[df.lattice_sizes=='32x32'].gputime, 'bo', label='gputime(sec)')\n",
    "#plt.plot( df[df.lattice_sizes=='32x32'].block_sizes.str.split('x', expand=True)[0],df[df.lattice_sizes=='32x32']['diff']*1e12, 'r--', label='diff(*1e-9)')\n",
    "plt.legend()\n",
    "plt.xlabel('block size(2^x)')\n",
    "print('x: threads per block, y: gpu time')"
   ]
  },
  {
   "cell_type": "code",
   "execution_count": 21,
   "metadata": {},
   "outputs": [
    {
     "data": {
      "text/plain": [
       "0      32\n",
       "4      64\n",
       "8     128\n",
       "12    256\n",
       "Name: 0, dtype: object"
      ]
     },
     "execution_count": 21,
     "metadata": {},
     "output_type": "execute_result"
    }
   ],
   "source": [
    "df[df.block_sizes=='4x4'].lattice_sizes.str.split('x', expand=True)[0]"
   ]
  },
  {
   "cell_type": "code",
   "execution_count": null,
   "metadata": {},
   "outputs": [],
   "source": [
    "\n",
    "print('x: threads per block, y: gpu time')"
   ]
  },
  {
   "cell_type": "code",
   "execution_count": 26,
   "metadata": {},
   "outputs": [
    {
     "name": "stdout",
     "output_type": "stream",
     "text": [
      "x: blocks per grid, y: gpu time\n"
     ]
    },
    {
     "data": {
      "image/png": "[encoded data removed]",
      "text/plain": [
       "<Figure size 432x288 with 1 Axes>"
      ]
     },
     "metadata": {
      "needs_background": "light"
     },
     "output_type": "display_data"
    }
   ],
   "source": [
    "plt.plot( df[df.block_sizes=='4x4'].lattice_sizes.str.split('x', expand=True)[0],df[df.block_sizes=='4x4'].gputime, 'go', label='gputime(sec)')\n",
    "#plt.plot( df[df.block_sizes=='4x4'].lattice_sizes.str.split('x', expand=True)[0],df[df.block_sizes=='4x4']['diff']*1e5, 'r--', label='diff(*1e-5)')\n",
    "plt.legend()\n",
    "plt.xlabel('grid size(10^x)')\n",
    "print('x: blocks per grid, y: gpu time')"
   ]
  },
  {
   "cell_type": "code",
   "execution_count": null,
   "metadata": {},
   "outputs": [],
   "source": []
  }
 ],
 "metadata": {
  "kernelspec": {
   "display_name": "Python 3",
   "language": "python",
   "name": "python3"
  },
  "language_info": {
   "codemirror_mode": {
    "name": "ipython",
    "version": 3
   },
   "file_extension": ".py",
   "mimetype": "text/x-python",
   "name": "python",
   "nbconvert_exporter": "python",
   "pygments_lexer": "ipython3",
   "version": "3.6.9"
  }
 },
 "nbformat": 4,
 "nbformat_minor": 2
}
