{
 "cells": [
  {
   "cell_type": "code",
   "execution_count": 2,
   "metadata": {},
   "outputs": [],
   "source": [
    "import pandas as pd\n",
    "import matplotlib. pyplot as plt\n",
    "import numpy as np"
   ]
  },
  {
   "cell_type": "code",
   "execution_count": 45,
   "metadata": {},
   "outputs": [],
   "source": [
    "dfmemgpu = pd.read_csv('shmem_gpu.csv', sep=\" \",  index_col=False)\n",
    "dfmemcpu = pd.read_csv('shmem_cpu.csv', sep=\" \",  index_col=False)\n",
    "dfgmgpu = pd.read_csv('gmem_gpu.csv', sep=\" \",  index_col=False)"
   ]
  },
  {
   "cell_type": "code",
   "execution_count": 7,
   "metadata": {},
   "outputs": [
    {
     "data": {
      "text/html": [
       "<div>\n",
       "<style scoped>\n",
       "    .dataframe tbody tr th:only-of-type {\n",
       "        vertical-align: middle;\n",
       "    }\n",
       "\n",
       "    .dataframe tbody tr th {\n",
       "        vertical-align: top;\n",
       "    }\n",
       "\n",
       "    .dataframe thead th {\n",
       "        text-align: right;\n",
       "    }\n",
       "</style>\n",
       "<table border=\"1\" class=\"dataframe\">\n",
       "  <thead>\n",
       "    <tr style=\"text-align: right;\">\n",
       "      <th></th>\n",
       "      <th>center</th>\n",
       "      <th>number</th>\n",
       "    </tr>\n",
       "  </thead>\n",
       "  <tbody>\n",
       "    <tr>\n",
       "      <th>0</th>\n",
       "      <td>0.106061</td>\n",
       "      <td>15655039</td>\n",
       "    </tr>\n",
       "    <tr>\n",
       "      <th>1</th>\n",
       "      <td>0.318182</td>\n",
       "      <td>12664193</td>\n",
       "    </tr>\n",
       "    <tr>\n",
       "      <th>2</th>\n",
       "      <td>0.530303</td>\n",
       "      <td>10245947</td>\n",
       "    </tr>\n",
       "    <tr>\n",
       "      <th>3</th>\n",
       "      <td>0.742424</td>\n",
       "      <td>8285703</td>\n",
       "    </tr>\n",
       "    <tr>\n",
       "      <th>4</th>\n",
       "      <td>0.954545</td>\n",
       "      <td>6704874</td>\n",
       "    </tr>\n",
       "  </tbody>\n",
       "</table>\n",
       "</div>"
      ],
      "text/plain": [
       "     center    number\n",
       "0  0.106061  15655039\n",
       "1  0.318182  12664193\n",
       "2  0.530303  10245947\n",
       "3  0.742424   8285703\n",
       "4  0.954545   6704874"
      ]
     },
     "execution_count": 7,
     "metadata": {},
     "output_type": "execute_result"
    }
   ],
   "source": [
    "dfmemgpu.head()"
   ]
  },
  {
   "cell_type": "code",
   "execution_count": 9,
   "metadata": {},
   "outputs": [
    {
     "data": {
      "text/html": [
       "<div>\n",
       "<style scoped>\n",
       "    .dataframe tbody tr th:only-of-type {\n",
       "        vertical-align: middle;\n",
       "    }\n",
       "\n",
       "    .dataframe tbody tr th {\n",
       "        vertical-align: top;\n",
       "    }\n",
       "\n",
       "    .dataframe thead th {\n",
       "        text-align: right;\n",
       "    }\n",
       "</style>\n",
       "<table border=\"1\" class=\"dataframe\">\n",
       "  <thead>\n",
       "    <tr style=\"text-align: right;\">\n",
       "      <th></th>\n",
       "      <th>center</th>\n",
       "      <th>number</th>\n",
       "    </tr>\n",
       "  </thead>\n",
       "  <tbody>\n",
       "    <tr>\n",
       "      <th>0</th>\n",
       "      <td>0.106061</td>\n",
       "      <td>15655039</td>\n",
       "    </tr>\n",
       "    <tr>\n",
       "      <th>1</th>\n",
       "      <td>0.318182</td>\n",
       "      <td>12664193</td>\n",
       "    </tr>\n",
       "    <tr>\n",
       "      <th>2</th>\n",
       "      <td>0.530303</td>\n",
       "      <td>10245947</td>\n",
       "    </tr>\n",
       "    <tr>\n",
       "      <th>3</th>\n",
       "      <td>0.742424</td>\n",
       "      <td>8285703</td>\n",
       "    </tr>\n",
       "    <tr>\n",
       "      <th>4</th>\n",
       "      <td>0.954545</td>\n",
       "      <td>6704874</td>\n",
       "    </tr>\n",
       "  </tbody>\n",
       "</table>\n",
       "</div>"
      ],
      "text/plain": [
       "     center    number\n",
       "0  0.106061  15655039\n",
       "1  0.318182  12664193\n",
       "2  0.530303  10245947\n",
       "3  0.742424   8285703\n",
       "4  0.954545   6704874"
      ]
     },
     "execution_count": 9,
     "metadata": {},
     "output_type": "execute_result"
    }
   ],
   "source": [
    "dfmemcpu.head()"
   ]
  },
  {
   "cell_type": "code",
   "execution_count": 47,
   "metadata": {
    "scrolled": true
   },
   "outputs": [
    {
     "name": "stdout",
     "output_type": "stream",
     "text": [
      "0     0\n",
      "1     0\n",
      "2     0\n",
      "3     0\n",
      "4     0\n",
      "5     0\n",
      "6     0\n",
      "7     0\n",
      "8     0\n",
      "9     0\n",
      "10    0\n",
      "11    0\n",
      "12    0\n",
      "13    0\n",
      "14    0\n",
      "15    0\n",
      "16    0\n",
      "17    0\n",
      "18    0\n",
      "19    0\n",
      "20    0\n",
      "21    0\n",
      "22    0\n",
      "23    0\n",
      "24    0\n",
      "25    0\n",
      "26    0\n",
      "27    0\n",
      "28    0\n",
      "29    0\n",
      "30    0\n",
      "31    0\n",
      "32    0\n",
      "Name: number, dtype: int64\n"
     ]
    }
   ],
   "source": [
    "dx = dfmemgpu.number - dfgmgpu.number\n",
    "print(dx)"
   ]
  },
  {
   "cell_type": "code",
   "execution_count": 44,
   "metadata": {},
   "outputs": [
    {
     "data": {
      "image/png": "[encoded data removed]",
      "text/plain": [
       "<Figure size 432x288 with 1 Axes>"
      ]
     },
     "metadata": {
      "needs_background": "light"
     },
     "output_type": "display_data"
    }
   ],
   "source": [
    "xs = np.arange(0, dfmemgpu.center.max(), dfmemgpu.center.max()/len(dfmemgpu))\n",
    "plt.bar(np.arange(len(dfmemgpu)), dfmemgpu.number)\n",
    "#plt.plot(np.arange(len(dfmemgpu)), np.exp(-dfmemgpu.center)*np.sum(dfmemgpu.number[0]), 'r')\n",
    "plt.plot(np.arange(len(dfmemgpu)), np.exp(-xs)*np.sum(dfmemgpu.number[0]), 'r')\n",
    "plt.show()"
   ]
  },
  {
   "cell_type": "code",
   "execution_count": null,
   "metadata": {},
   "outputs": [],
   "source": [
    "xs = np.arange(0, dfmemgpu.center.max(), dfmemgpu.center.max()/len(dfmemgpu))\n",
    "plt.bar(np.arange(len(dfmemgpu)), dfmemgpu.number)\n",
    "#plt.plot(np.arange(len(dfmemgpu)), np.exp(-dfmemgpu.center)*np.sum(dfmemgpu.number[0]), 'r')\n",
    "plt.plot(np.arange(len(dfmemgpu)), np.exp(-xs)*np.sum(dfmemgpu.number[0]), 'r')\n",
    "plt.show()"
   ]
  },
  {
   "cell_type": "code",
   "execution_count": 38,
   "metadata": {},
   "outputs": [],
   "source": [
    "xs = np.arange(0, dfmemgpu.center.max(), dfmemgpu.center.max()/len(dfmemgpu))"
   ]
  },
  {
   "cell_type": "code",
   "execution_count": 39,
   "metadata": {},
   "outputs": [
    {
     "name": "stdout",
     "output_type": "stream",
     "text": [
      "[0.         0.20890724 0.41781448 0.62672173 0.83562897 1.04453621\n",
      " 1.25344345 1.4623507  1.67125794 1.88016518 2.08907242 2.29797967\n",
      " 2.50688691 2.71579415 2.92470139 3.13360864 3.34251588 3.55142312\n",
      " 3.76033036 3.96923761 4.17814485 4.38705209 4.59595933 4.80486658\n",
      " 5.01377382 5.22268106 5.4315883  5.64049555 5.84940279 6.05831003\n",
      " 6.26721727 6.47612452 6.68503176]\n"
     ]
    }
   ],
   "source": [
    "print(xs)"
   ]
  },
  {
   "cell_type": "code",
   "execution_count": 41,
   "metadata": {},
   "outputs": [
    {
     "data": {
      "text/plain": [
       "[<matplotlib.lines.Line2D at 0x7f0511e70a90>]"
      ]
     },
     "execution_count": 41,
     "metadata": {},
     "output_type": "execute_result"
    },
    {
     "data": {
      "image/png": "[encoded data removed]",
      "text/plain": [
       "<Figure size 432x288 with 1 Axes>"
      ]
     },
     "metadata": {
      "needs_background": "light"
     },
     "output_type": "display_data"
    }
   ],
   "source": [
    "plt.plot(np.arange(len(dfmemgpu)), np.exp(-xs))"
   ]
  },
  {
   "cell_type": "code",
   "execution_count": 29,
   "metadata": {},
   "outputs": [
    {
     "data": {
      "text/plain": [
       "0     0.899370\n",
       "1     0.727470\n",
       "2     0.588427\n",
       "3     0.475959\n",
       "4     0.384987\n",
       "5     0.311403\n",
       "6     0.251884\n",
       "7     0.203740\n",
       "8     0.164799\n",
       "9     0.133300\n",
       "10    0.107822\n",
       "11    0.087214\n",
       "12    0.070544\n",
       "13    0.057061\n",
       "14    0.046155\n",
       "15    0.037333\n",
       "16    0.030197\n",
       "17    0.024426\n",
       "18    0.019757\n",
       "19    0.015981\n",
       "20    0.012926\n",
       "21    0.010456\n",
       "22    0.008457\n",
       "23    0.006841\n",
       "24    0.005533\n",
       "25    0.004476\n",
       "26    0.003620\n",
       "27    0.002928\n",
       "28    0.002369\n",
       "29    0.001916\n",
       "30    0.001550\n",
       "31    0.001253\n",
       "32    0.001014\n",
       "Name: center, dtype: float64"
      ]
     },
     "execution_count": 29,
     "metadata": {},
     "output_type": "execute_result"
    }
   ],
   "source": [
    "np.exp(-dfmemgpu.center)"
   ]
  },
  {
   "cell_type": "code",
   "execution_count": 55,
   "metadata": {},
   "outputs": [],
   "source": [
    "dftime = pd.read_csv('time.csv')"
   ]
  },
  {
   "cell_type": "code",
   "execution_count": 56,
   "metadata": {},
   "outputs": [
    {
     "data": {
      "text/html": [
       "<div>\n",
       "<style scoped>\n",
       "    .dataframe tbody tr th:only-of-type {\n",
       "        vertical-align: middle;\n",
       "    }\n",
       "\n",
       "    .dataframe tbody tr th {\n",
       "        vertical-align: top;\n",
       "    }\n",
       "\n",
       "    .dataframe thead th {\n",
       "        text-align: right;\n",
       "    }\n",
       "</style>\n",
       "<table border=\"1\" class=\"dataframe\">\n",
       "  <thead>\n",
       "    <tr style=\"text-align: right;\">\n",
       "      <th></th>\n",
       "      <th>nblocks</th>\n",
       "      <th>inTime</th>\n",
       "      <th>gpuTime</th>\n",
       "      <th>outTime</th>\n",
       "      <th>totalTime</th>\n",
       "    </tr>\n",
       "  </thead>\n",
       "  <tbody>\n",
       "    <tr>\n",
       "      <th>0</th>\n",
       "      <td>16</td>\n",
       "      <td>56.324928</td>\n",
       "      <td>78.762527</td>\n",
       "      <td>3.677632</td>\n",
       "      <td>138.765091</td>\n",
       "    </tr>\n",
       "    <tr>\n",
       "      <th>1</th>\n",
       "      <td>64</td>\n",
       "      <td>55.691647</td>\n",
       "      <td>21.963969</td>\n",
       "      <td>3.690560</td>\n",
       "      <td>81.346176</td>\n",
       "    </tr>\n",
       "    <tr>\n",
       "      <th>2</th>\n",
       "      <td>128</td>\n",
       "      <td>59.028385</td>\n",
       "      <td>11.545312</td>\n",
       "      <td>3.068742</td>\n",
       "      <td>74.261124</td>\n",
       "    </tr>\n",
       "    <tr>\n",
       "      <th>3</th>\n",
       "      <td>256</td>\n",
       "      <td>57.972801</td>\n",
       "      <td>6.148512</td>\n",
       "      <td>3.687520</td>\n",
       "      <td>67.808838</td>\n",
       "    </tr>\n",
       "    <tr>\n",
       "      <th>4</th>\n",
       "      <td>512</td>\n",
       "      <td>55.622303</td>\n",
       "      <td>6.586048</td>\n",
       "      <td>3.685024</td>\n",
       "      <td>65.893372</td>\n",
       "    </tr>\n",
       "  </tbody>\n",
       "</table>\n",
       "</div>"
      ],
      "text/plain": [
       "   nblocks     inTime    gpuTime   outTime   totalTime\n",
       "0       16  56.324928  78.762527  3.677632  138.765091\n",
       "1       64  55.691647  21.963969  3.690560   81.346176\n",
       "2      128  59.028385  11.545312  3.068742   74.261124\n",
       "3      256  57.972801   6.148512  3.687520   67.808838\n",
       "4      512  55.622303   6.586048  3.685024   65.893372"
      ]
     },
     "execution_count": 56,
     "metadata": {},
     "output_type": "execute_result"
    }
   ],
   "source": [
    "dftime"
   ]
  },
  {
   "cell_type": "code",
   "execution_count": 57,
   "metadata": {},
   "outputs": [
    {
     "data": {
      "text/plain": [
       "0    0.036776\n",
       "1    0.036906\n",
       "2    0.030687\n",
       "3    0.036875\n",
       "4    0.036850\n",
       "Name: outTime, dtype: float64"
      ]
     },
     "execution_count": 57,
     "metadata": {},
     "output_type": "execute_result"
    }
   ],
   "source": [
    "dftime.outTime/100"
   ]
  },
  {
   "cell_type": "code",
   "execution_count": 69,
   "metadata": {},
   "outputs": [
    {
     "name": "stderr",
     "output_type": "stream",
     "text": [
      "No handles with labels found to put in legend.\n"
     ]
    },
    {
     "data": {
      "text/plain": [
       "Text(0, 0.5, 'gputime(sec)')"
      ]
     },
     "execution_count": 69,
     "metadata": {},
     "output_type": "execute_result"
    },
    {
     "data": {
      "image/png": "[encoded data removed]",
      "text/plain": [
       "<Figure size 432x288 with 1 Axes>"
      ]
     },
     "metadata": {
      "needs_background": "light"
     },
     "output_type": "display_data"
    }
   ],
   "source": [
    "plt.plot(np.log2(dftime.nblocks), dftime.totalTime, 'r*-')\n",
    "plt.legend()\n",
    "plt.xlabel('grid sizes')\n",
    "plt.ylabel('gputime(sec)')"
   ]
  },
  {
   "cell_type": "code",
   "execution_count": null,
   "metadata": {},
   "outputs": [],
   "source": []
  }
 ],
 "metadata": {
  "kernelspec": {
   "display_name": "Python 3",
   "language": "python",
   "name": "python3"
  },
  "language_info": {
   "codemirror_mode": {
    "name": "ipython",
    "version": 3
   },
   "file_extension": ".py",
   "mimetype": "text/x-python",
   "name": "python",
   "nbconvert_exporter": "python",
   "pygments_lexer": "ipython3",
   "version": "3.6.9"
  }
 },
 "nbformat": 4,
 "nbformat_minor": 2
}
