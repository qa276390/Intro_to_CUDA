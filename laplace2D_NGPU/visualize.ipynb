{
 "cells": [
  {
   "cell_type": "code",
   "execution_count": 1,
   "metadata": {},
   "outputs": [],
   "source": [
    "import pandas as pd\n",
    "import matplotlib. pyplot as plt\n",
    "import numpy as np"
   ]
  },
  {
   "cell_type": "code",
   "execution_count": 4,
   "metadata": {},
   "outputs": [],
   "source": [
    "df = pd.read_csv('Output.csv')"
   ]
  },
  {
   "cell_type": "code",
   "execution_count": 5,
   "metadata": {
    "scrolled": true
   },
   "outputs": [
    {
     "data": {
      "text/html": [
       "<div>\n",
       "<style scoped>\n",
       "    .dataframe tbody tr th:only-of-type {\n",
       "        vertical-align: middle;\n",
       "    }\n",
       "\n",
       "    .dataframe tbody tr th {\n",
       "        vertical-align: top;\n",
       "    }\n",
       "\n",
       "    .dataframe thead th {\n",
       "        text-align: right;\n",
       "    }\n",
       "</style>\n",
       "<table border=\"1\" class=\"dataframe\">\n",
       "  <thead>\n",
       "    <tr style=\"text-align: right;\">\n",
       "      <th></th>\n",
       "      <th>lattice_sizes</th>\n",
       "      <th>block sizes</th>\n",
       "      <th>gputime</th>\n",
       "      <th>gputime_tot</th>\n",
       "    </tr>\n",
       "  </thead>\n",
       "  <tbody>\n",
       "    <tr>\n",
       "      <th>0</th>\n",
       "      <td>1024x1024</td>\n",
       "      <td>4x4</td>\n",
       "      <td>426341</td>\n",
       "      <td>426367</td>\n",
       "    </tr>\n",
       "    <tr>\n",
       "      <th>1</th>\n",
       "      <td>1024x1024</td>\n",
       "      <td>8x8</td>\n",
       "      <td>183607</td>\n",
       "      <td>183635</td>\n",
       "    </tr>\n",
       "    <tr>\n",
       "      <th>2</th>\n",
       "      <td>1024x1024</td>\n",
       "      <td>16x16</td>\n",
       "      <td>170065</td>\n",
       "      <td>170092</td>\n",
       "    </tr>\n",
       "    <tr>\n",
       "      <th>3</th>\n",
       "      <td>1024x1024</td>\n",
       "      <td>32x32</td>\n",
       "      <td>197570</td>\n",
       "      <td>197596</td>\n",
       "    </tr>\n",
       "  </tbody>\n",
       "</table>\n",
       "</div>"
      ],
      "text/plain": [
       "  lattice_sizes block sizes  gputime  gputime_tot\n",
       "0     1024x1024         4x4   426341       426367\n",
       "1     1024x1024         8x8   183607       183635\n",
       "2     1024x1024       16x16   170065       170092\n",
       "3     1024x1024       32x32   197570       197596"
      ]
     },
     "execution_count": 5,
     "metadata": {},
     "output_type": "execute_result"
    }
   ],
   "source": [
    "df"
   ]
  },
  {
   "cell_type": "code",
   "execution_count": 8,
   "metadata": {},
   "outputs": [
    {
     "name": "stdout",
     "output_type": "stream",
     "text": [
      "x: threads per block, y: gpu time\n"
     ]
    },
    {
     "data": {
      "image/png": "[encoded data removed]",
      "text/plain": [
       "<Figure size 432x288 with 1 Axes>"
      ]
     },
     "metadata": {
      "needs_background": "light"
     },
     "output_type": "display_data"
    }
   ],
   "source": [
    "plt.plot( df['block sizes'].str.split('x', expand=True)[0],df.gputime, 'yo-', label='gputime(sec)')\n",
    "#plt.plot( np.log2(df[df.blocksPerGrid==10].threadsPerBlock),df[df.blocksPerGrid==10]['diff']*1e9, 'r--', label='diff(*1e-9)')\n",
    "plt.legend()\n",
    "plt.xlabel('block size(2^x)')\n",
    "print('x: threads per block, y: gpu time')"
   ]
  },
  {
   "cell_type": "code",
   "execution_count": null,
   "metadata": {},
   "outputs": [],
   "source": [
    "\n",
    "print('x: threads per block, y: gpu time')"
   ]
  },
  {
   "cell_type": "code",
   "execution_count": 85,
   "metadata": {},
   "outputs": [
    {
     "name": "stdout",
     "output_type": "stream",
     "text": [
      "x: blocks per grid, y: gpu time\n"
     ]
    },
    {
     "data": {
      "image/png": "[encoded data removed]",
      "text/plain": [
       "<Figure size 432x288 with 1 Axes>"
      ]
     },
     "metadata": {
      "needs_background": "light"
     },
     "output_type": "display_data"
    }
   ],
   "source": [
    "plt.plot( np.log10(df[df.threadsPerBlock==2].blocksPerGrid),df[df.threadsPerBlock==2].gputime, 'go', label='gputime(sec)')\n",
    "plt.plot( np.log10(df[df.threadsPerBlock==2].blocksPerGrid),df[df.threadsPerBlock==2]['diff']*1e5, 'r--', label='diff(*1e-5)')\n",
    "plt.legend()\n",
    "plt.xlabel('grid size(10^x)')\n",
    "print('x: blocks per grid, y: gpu time')"
   ]
  },
  {
   "cell_type": "code",
   "execution_count": null,
   "metadata": {},
   "outputs": [],
   "source": []
  }
 ],
 "metadata": {
  "kernelspec": {
   "display_name": "Python 3",
   "language": "python",
   "name": "python3"
  },
  "language_info": {
   "codemirror_mode": {
    "name": "ipython",
    "version": 3
   },
   "file_extension": ".py",
   "mimetype": "text/x-python",
   "name": "python",
   "nbconvert_exporter": "python",
   "pygments_lexer": "ipython3",
   "version": "3.6.9"
  }
 },
 "nbformat": 4,
 "nbformat_minor": 2
}
